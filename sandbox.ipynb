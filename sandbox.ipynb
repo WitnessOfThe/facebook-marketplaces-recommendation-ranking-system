{
 "cells": [
  {
   "cell_type": "code",
   "execution_count": 1,
   "metadata": {},
   "outputs": [
    {
     "ename": "ModuleNotFoundError",
     "evalue": "No module named 'chardet'",
     "output_type": "error",
     "traceback": [
      "\u001b[1;31m---------------------------------------------------------------------------\u001b[0m",
      "\u001b[1;31mModuleNotFoundError\u001b[0m                       Traceback (most recent call last)",
      "Cell \u001b[1;32mIn[1], line 2\u001b[0m\n\u001b[0;32m      1\u001b[0m \u001b[39mimport\u001b[39;00m \u001b[39mpandas\u001b[39;00m \u001b[39mas\u001b[39;00m \u001b[39mpd\u001b[39;00m\n\u001b[1;32m----> 2\u001b[0m \u001b[39mfrom\u001b[39;00m \u001b[39mclean_tabular_data\u001b[39;00m \u001b[39mimport\u001b[39;00m DataTabular\n\u001b[0;32m      4\u001b[0m data_products \u001b[39m=\u001b[39m DataTabular(\u001b[39m'\u001b[39m\u001b[39mProducts.csv\u001b[39m\u001b[39m'\u001b[39m)\n\u001b[0;32m      5\u001b[0m data_products\u001b[39m.\u001b[39mclean_price_column()\n",
      "File \u001b[1;32mc:\\Users\\Danila\\Documents\\GitHub\\facebook-marketplaces-recommendation-ranking-system\\clean_tabular_data.py:1\u001b[0m\n\u001b[1;32m----> 1\u001b[0m \u001b[39mimport\u001b[39;00m \u001b[39mchardet\u001b[39;00m\n\u001b[0;32m      2\u001b[0m \u001b[39mimport\u001b[39;00m \u001b[39mcsv\u001b[39;00m\n\u001b[0;32m      3\u001b[0m \u001b[39mimport\u001b[39;00m \u001b[39mpandas\u001b[39;00m \u001b[39mas\u001b[39;00m \u001b[39mpd\u001b[39;00m\n",
      "\u001b[1;31mModuleNotFoundError\u001b[0m: No module named 'chardet'"
     ]
    }
   ],
   "source": [
    "\n",
    "import pandas as pd\n",
    "from clean_tabular_data import DataTabular\n",
    "\n",
    "data_products = DataTabular('Products.csv')\n",
    "data_products.clean_price_column()\n",
    "print(data_products.df.info())\n",
    "print(data_products.df.head())"
   ]
  },
  {
   "cell_type": "code",
   "execution_count": 4,
   "metadata": {},
   "outputs": [],
   "source": [
    "\n",
    "\n",
    "data_products.df[['cat:0','cat:1','cat:2']] = data_products.df[\"category\"].apply(lambda x: pd.Series(str(x).split(' / ',2)))\n"
   ]
  },
  {
   "cell_type": "code",
   "execution_count": 5,
   "metadata": {},
   "outputs": [],
   "source": [
    "cat0_keys = data_products.df['cat:0'].unique()\n",
    "cat0_encoder = {}\n",
    "cat0_decoder = {}\n",
    "for _ in range(len(cat0_keys)):\n",
    "    cat0_encoder[cat0_keys[_]] = _\n",
    "    cat0_decoder[_] = cat0_keys[_]"
   ]
  },
  {
   "cell_type": "code",
   "execution_count": 26,
   "metadata": {},
   "outputs": [
    {
     "name": "stdout",
     "output_type": "stream",
     "text": [
      "ASCII\n",
      "<class 'pandas.core.frame.DataFrame'>\n",
      "Int64Index: 11122 entries, 0 to 11121\n",
      "Data columns (total 13 columns):\n",
      " #   Column               Non-Null Count  Dtype  \n",
      "---  ------               --------------  -----  \n",
      " 0                        11122 non-null  object \n",
      " 1   id_x                 11122 non-null  object \n",
      " 2   product_id           11122 non-null  object \n",
      " 3   index                11122 non-null  int64  \n",
      " 4   id_y                 11122 non-null  object \n",
      " 5   product_name         11122 non-null  object \n",
      " 6   category             11122 non-null  object \n",
      " 7   product_description  11122 non-null  object \n",
      " 8   price                11122 non-null  float64\n",
      " 9   location             11122 non-null  object \n",
      " 10  cat:0                11122 non-null  object \n",
      " 11  cat:1                11122 non-null  object \n",
      " 12  cat:2                6768 non-null   object \n",
      "dtypes: float64(1), int64(1), object(11)\n",
      "memory usage: 1.2+ MB\n"
     ]
    }
   ],
   "source": [
    "data_images =  DataTabular('Images.csv')\n",
    "data_images.df.head()\n",
    "df_with_category = pd.merge(data_images.df,data_products.df,left_on = 'product_id',right_on ='id',how='inner')\n",
    "df_with_category.info()\n",
    "df_with_category.rename(columns={'id_x':'label'})\n",
    "df_with_category.to_csv('training_data.csv')\n",
    "\n",
    "\n",
    "\n"
   ]
  },
  {
   "cell_type": "code",
   "execution_count": 20,
   "metadata": {},
   "outputs": [
    {
     "name": "stdout",
     "output_type": "stream",
     "text": [
      "<class 'pandas.core.frame.DataFrame'>\n",
      "RangeIndex: 1121 entries, 0 to 1120\n",
      "Data columns (total 15 columns):\n",
      " #   Column               Non-Null Count  Dtype  \n",
      "---  ------               --------------  -----  \n",
      " 0   level_0              1121 non-null   int64  \n",
      " 1   Unnamed: 0           1121 non-null   int64  \n",
      " 2   Unnamed: 1           1121 non-null   int64  \n",
      " 3   id_x                 1121 non-null   object \n",
      " 4   product_id           1121 non-null   object \n",
      " 5   index                1121 non-null   int64  \n",
      " 6   id_y                 1121 non-null   object \n",
      " 7   product_name         1121 non-null   object \n",
      " 8   category             1121 non-null   object \n",
      " 9   product_description  1121 non-null   object \n",
      " 10  price                1121 non-null   float64\n",
      " 11  location             1121 non-null   object \n",
      " 12  cat:0                1121 non-null   object \n",
      " 13  cat:1                1121 non-null   object \n",
      " 14  cat:2                659 non-null    object \n",
      "dtypes: float64(1), int64(4), object(10)\n",
      "memory usage: 131.5+ KB\n",
      "None\n"
     ]
    }
   ],
   "source": [
    "import pandas as pd\n",
    "df = pd.read_csv('training_data.csv') \n",
    "df = df.sample(frac=1).reset_index(drop=True)\n",
    "df_train = df.iloc[:10000]\n",
    "df_test = df.iloc[10001:].reset_index()\n",
    "#df_train = df(df.iloc[10000])\n",
    "#df_test = df.index[10001:]\n",
    "#print(df_train.info())\n",
    "print(df_test.info())"
   ]
  },
  {
   "cell_type": "code",
   "execution_count": 21,
   "metadata": {},
   "outputs": [],
   "source": [
    "df_train.to_csv('training_with_reserved_test.csv')\n",
    "df_test.to_csv('test.csv')"
   ]
  }
 ],
 "metadata": {
  "kernelspec": {
   "display_name": "FB_Cuda",
   "language": "python",
   "name": "python3"
  },
  "language_info": {
   "codemirror_mode": {
    "name": "ipython",
    "version": 3
   },
   "file_extension": ".py",
   "mimetype": "text/x-python",
   "name": "python",
   "nbconvert_exporter": "python",
   "pygments_lexer": "ipython3",
   "version": "3.10.9"
  },
  "orig_nbformat": 4,
  "vscode": {
   "interpreter": {
    "hash": "47c13c3a72f942b0d7358a625ec37590303ea017063a83e5bc32cb03c9dcc295"
   }
  }
 },
 "nbformat": 4,
 "nbformat_minor": 2
}
