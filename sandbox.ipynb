{
 "cells": [
  {
   "cell_type": "code",
   "execution_count": 3,
   "metadata": {},
   "outputs": [
    {
     "name": "stdout",
     "output_type": "stream",
     "text": [
      "UTF-8\n",
      "<class 'pandas.core.frame.DataFrame'>\n",
      "RangeIndex: 6311 entries, 0 to 6310\n",
      "Data columns (total 7 columns):\n",
      " #   Column               Non-Null Count  Dtype  \n",
      "---  ------               --------------  -----  \n",
      " 0   index                6311 non-null   int64  \n",
      " 1   id                   6311 non-null   object \n",
      " 2   product_name         6311 non-null   object \n",
      " 3   category             6311 non-null   object \n",
      " 4   product_description  6311 non-null   object \n",
      " 5   price                6311 non-null   float64\n",
      " 6   location             6311 non-null   object \n",
      "dtypes: float64(1), int64(1), object(5)\n",
      "memory usage: 345.3+ KB\n",
      "None\n",
      "   index                                    id  \\\n",
      "0      0  243809c0-9cfc-4486-ad12-3b7a16605ba9   \n",
      "1      1  1c58d3f9-8b93-47ea-9415-204fcc2a22e6   \n",
      "2      2  860673f1-57f6-47ba-8d2f-13f9e05b8f9a   \n",
      "3      3  59948726-29be-4b35-ade5-bb2fd7331856   \n",
      "4     12  5707be4f-49d9-4feb-b2c8-aa0868405c65   \n",
      "\n",
      "                                        product_name  \\\n",
      "0  Mirror wall art | in Wokingham, Berkshire | Gu...   \n",
      "1  Stainless Steel Food Steamer | in Inverness, H...   \n",
      "2  Sun loungers | in Skegness, Lincolnshire | Gum...   \n",
      "3  Coffee side table from Ammunition ammo box hai...   \n",
      "4  Spotlights | in Newent, Gloucestershire | Gumtree   \n",
      "\n",
      "                                            category  \\\n",
      "0  Home & Garden / Dining, Living Room Furniture ...   \n",
      "1              Home & Garden / Other Household Goods   \n",
      "2  Home & Garden / Garden & Patio / Outdoor Setti...   \n",
      "3  Home & Garden / Dining, Living Room Furniture ...   \n",
      "4              Home & Garden / Other Household Goods   \n",
      "\n",
      "                                 product_description  price  \\\n",
      "0  Mirror wall art. Posted by Nisha in Dining, Li...    5.0   \n",
      "1  Morphy Richard’s (model no 48755)Stainless ste...   20.0   \n",
      "2  I have 2 of these - collection only as I don’t...   20.0   \n",
      "3  Great reclaimed army ammunition box used as co...  115.0   \n",
      "4  New in box not needed Spotlights . Posted by s...    9.0   \n",
      "\n",
      "                  location  \n",
      "0     Wokingham, Berkshire  \n",
      "1      Inverness, Highland  \n",
      "2   Skegness, Lincolnshire  \n",
      "3       Radstock, Somerset  \n",
      "4  Newent, Gloucestershire  \n"
     ]
    }
   ],
   "source": [
    "\n",
    "import pandas as pd\n",
    "from clean_tabular_data import DataTabular\n",
    "\n",
    "data_products = DataTabular('Products.csv')\n",
    "data_products.clean_price_column()\n",
    "print(data_products.df.info())\n",
    "print(data_products.df.head())"
   ]
  },
  {
   "cell_type": "code",
   "execution_count": 4,
   "metadata": {},
   "outputs": [],
   "source": [
    "\n",
    "\n",
    "data_products.df[['cat:0','cat:1','cat:2']] = data_products.df[\"category\"].apply(lambda x: pd.Series(str(x).split(' / ',2)))\n"
   ]
  },
  {
   "cell_type": "code",
   "execution_count": 5,
   "metadata": {},
   "outputs": [],
   "source": [
    "cat0_keys = data_products.df['cat:0'].unique()\n",
    "cat0_encoder = {}\n",
    "cat0_decoder = {}\n",
    "for _ in range(len(cat0_keys)):\n",
    "    cat0_encoder[cat0_keys[_]] = _\n",
    "    cat0_decoder[_] = cat0_keys[_]"
   ]
  },
  {
   "cell_type": "code",
   "execution_count": 26,
   "metadata": {},
   "outputs": [
    {
     "name": "stdout",
     "output_type": "stream",
     "text": [
      "ASCII\n",
      "<class 'pandas.core.frame.DataFrame'>\n",
      "Int64Index: 11122 entries, 0 to 11121\n",
      "Data columns (total 13 columns):\n",
      " #   Column               Non-Null Count  Dtype  \n",
      "---  ------               --------------  -----  \n",
      " 0                        11122 non-null  object \n",
      " 1   id_x                 11122 non-null  object \n",
      " 2   product_id           11122 non-null  object \n",
      " 3   index                11122 non-null  int64  \n",
      " 4   id_y                 11122 non-null  object \n",
      " 5   product_name         11122 non-null  object \n",
      " 6   category             11122 non-null  object \n",
      " 7   product_description  11122 non-null  object \n",
      " 8   price                11122 non-null  float64\n",
      " 9   location             11122 non-null  object \n",
      " 10  cat:0                11122 non-null  object \n",
      " 11  cat:1                11122 non-null  object \n",
      " 12  cat:2                6768 non-null   object \n",
      "dtypes: float64(1), int64(1), object(11)\n",
      "memory usage: 1.2+ MB\n"
     ]
    }
   ],
   "source": [
    "data_images =  DataTabular('Images.csv')\n",
    "data_images.df.head()\n",
    "df_with_category = pd.merge(data_images.df,data_products.df,left_on = 'product_id',right_on ='id',how='inner')\n",
    "df_with_category.info()\n",
    "df_with_category.rename(columns={'id_x':'label'})\n",
    "df_with_category.to_csv('training_data.csv')\n"
   ]
  },
  {
   "cell_type": "code",
   "execution_count": 45,
   "metadata": {},
   "outputs": [
    {
     "data": {
      "text/plain": [
       "{0: 'Home & Garden',\n",
       " 1: 'Baby & Kids Stuff',\n",
       " 2: 'DIY Tools & Materials',\n",
       " 3: 'Music, Films, Books & Games',\n",
       " 4: 'Phones, Mobile Phones & Telecoms',\n",
       " 5: 'Clothes, Footwear & Accessories',\n",
       " 6: 'Other Goods',\n",
       " 7: 'Health & Beauty',\n",
       " 8: 'Sports, Leisure & Travel',\n",
       " 9: 'Appliances',\n",
       " 10: 'Computers & Software',\n",
       " 11: 'Office Furniture & Equipment',\n",
       " 12: 'Video Games & Consoles'}"
      ]
     },
     "execution_count": 45,
     "metadata": {},
     "output_type": "execute_result"
    }
   ],
   "source": []
  }
 ],
 "metadata": {
  "language_info": {
   "name": "python"
  },
  "orig_nbformat": 4
 },
 "nbformat": 4,
 "nbformat_minor": 2
}
